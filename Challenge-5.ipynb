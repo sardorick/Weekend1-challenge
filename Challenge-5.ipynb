{
 "cells": [
  {
   "cell_type": "code",
   "execution_count": 21,
   "metadata": {},
   "outputs": [
    {
     "name": "stdout",
     "output_type": "stream",
     "text": [
      "Alice is a secret agent\n"
     ]
    }
   ],
   "source": [
    "def find_secret(list_of_people):\n",
    "    pair_1 = ['Alice', 'Bob']\n",
    "    pair_2 = ['Ann', 'Jonny']\n",
    "    pair_3 = ['Alice', 'Alex']\n",
    "\n",
    "    list_of_people = [pair_1, pair_2, pair_3]    \n",
    "    if list_of_people[0][0] == list_of_people[1][0] or list_of_people[0][0] == list_of_people[2][0]: \n",
    "        if list_of_people[0][0] != list_of_people[1][1] and list_of_people[0][0] != list_of_people[2][1]:\n",
    "            print(list_of_people[0][0], \"is a secret agent\")\n",
    "    elif list_of_people[1][0] == list_of_people[0][0] or list_of_people[1][0] == list_of_people[2][0]:\n",
    "        if list_of_people[1][0] != list_of_people[0][1] and list_of_people[1][0] != list_of_people[2][1]: \n",
    "            print(list_of_people[1][0], \"is a secret agent\")\n",
    "    elif list_of_people[2][0] == list_of_people[0][0] or list_of_people[2][0] == list_of_people[1][0]:\n",
    "        if list_of_people[2][0] != list_of_people[1][1] or list_of_people[2][0] != list_of_people[0][1]:\n",
    "            print(list_of_people[2][0], \"is a secret agent\")\n",
    "    else:\n",
    "        print(0)\n",
    "       \n",
    "        \n",
    "\n",
    "# pair_1 = ['Alice', 'Bob']\n",
    "# pair_2 = ['Ann', 'Tom']\n",
    "# pair_3 = ['Alice', 'Ann']\n",
    "\n",
    "# list_of_people = [pair_1, pair_2, pair_3]\n",
    "\n",
    "find_secret(list_of_people)"
   ]
  },
  {
   "cell_type": "code",
   "execution_count": null,
   "metadata": {},
   "outputs": [],
   "source": []
  }
 ],
 "metadata": {
  "interpreter": {
   "hash": "b800dbeca7ba76140d44d928c46878d80d0628d805871ef6473defab86f621cf"
  },
  "kernelspec": {
   "display_name": "Python 3.9.7 ('strive')",
   "language": "python",
   "name": "python3"
  },
  "language_info": {
   "codemirror_mode": {
    "name": "ipython",
    "version": 3
   },
   "file_extension": ".py",
   "mimetype": "text/x-python",
   "name": "python",
   "nbconvert_exporter": "python",
   "pygments_lexer": "ipython3",
   "version": "3.9.7"
  },
  "orig_nbformat": 4
 },
 "nbformat": 4,
 "nbformat_minor": 2
}

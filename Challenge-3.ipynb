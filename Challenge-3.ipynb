{
 "cells": [
  {
   "cell_type": "code",
   "execution_count": 2,
   "metadata": {},
   "outputs": [
    {
     "name": "stdout",
     "output_type": "stream",
     "text": [
      "1\n",
      "2\n",
      "Strive\n",
      "School\n",
      "Strive School\n",
      "11\n",
      "Strive\n",
      "14\n"
     ]
    }
   ],
   "source": [
    "def strive_school(inp_list):\n",
    "    i = 1\n",
    "    for i in inp_list:\n",
    "        if i%3 == 0 and i%5 == 0:\n",
    "            print(\"Strive School\")\n",
    "        elif i%3 == 0:\n",
    "            print(\"Strive\")\n",
    "        elif i%5 == 0:\n",
    "            print(\"School\")\n",
    "        else:\n",
    "            print(i)\n",
    "        i += 1\n",
    "\n",
    "inp_list = [1,2,3,5,15,11,6,14]\n",
    "\n",
    "strive_school(inp_list)   \n",
    "\n",
    "            \n",
    "\n",
    "    "
   ]
  },
  {
   "cell_type": "code",
   "execution_count": null,
   "metadata": {},
   "outputs": [],
   "source": []
  }
 ],
 "metadata": {
  "interpreter": {
   "hash": "b800dbeca7ba76140d44d928c46878d80d0628d805871ef6473defab86f621cf"
  },
  "kernelspec": {
   "display_name": "Python 3.9.7 ('strive')",
   "language": "python",
   "name": "python3"
  },
  "language_info": {
   "codemirror_mode": {
    "name": "ipython",
    "version": 3
   },
   "file_extension": ".py",
   "mimetype": "text/x-python",
   "name": "python",
   "nbconvert_exporter": "python",
   "pygments_lexer": "ipython3",
   "version": "3.9.7"
  },
  "orig_nbformat": 4
 },
 "nbformat": 4,
 "nbformat_minor": 2
}

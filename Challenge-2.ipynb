{
 "cells": [
  {
   "cell_type": "code",
   "execution_count": 2,
   "metadata": {},
   "outputs": [
    {
     "name": "stdout",
     "output_type": "stream",
     "text": [
      "#################\n",
      "################\n",
      "###############\n",
      "##############\n",
      "#############\n",
      "############\n",
      "###########\n",
      "##########\n",
      "#########\n",
      "########\n",
      "#######\n",
      "######\n",
      "#####\n",
      "####\n",
      "###\n",
      "##\n",
      "#\n"
     ]
    }
   ],
   "source": [
    "\n",
    "def reverse_pyramid(num):\n",
    "    i = num\n",
    "    while (i <= num):\n",
    "        print('#' * i)\n",
    "        i -= 1\n",
    "        if i == 0:    \n",
    "            break\n",
    "       \n",
    "    \n",
    "\n",
    "reverse_pyramid(17) "
   ]
  },
  {
   "cell_type": "code",
   "execution_count": 1,
   "metadata": {},
   "outputs": [],
   "source": [
    "import math\n",
    "import matplotlib.pyplot as pt"
   ]
  },
  {
   "cell_type": "code",
   "execution_count": 6,
   "metadata": {},
   "outputs": [
    {
     "name": "stdout",
     "output_type": "stream",
     "text": [
      "#################\n",
      "################\n",
      "###############\n",
      "##############\n",
      "#############\n",
      "############\n",
      "###########\n",
      "##########\n",
      "#########\n",
      "########\n",
      "#######\n",
      "######\n",
      "#####\n",
      "####\n",
      "###\n",
      "##\n",
      "#\n"
     ]
    }
   ],
   "source": [
    "# Create class\n",
    "class Pyramid():\n",
    "    # create constructor\n",
    "    def __init__(self, num):\n",
    "        self.num = num\n",
    "\n",
    "    # create method\n",
    "    def reverse_pyramid(self):\n",
    "        self.i = self.num\n",
    "        while self.i <= self.num:\n",
    "            print('#' * self.i)\n",
    "            self.i -= 1\n",
    "            if self.i == 0:\n",
    "                break\n",
    "        \n",
    "test = Pyramid(17)   # assign the class to a variable and make it an instance  \n",
    "test.reverse_pyramid()   # call the method and activate the instance"
   ]
  },
  {
   "cell_type": "code",
   "execution_count": null,
   "metadata": {},
   "outputs": [],
   "source": []
  }
 ],
 "metadata": {
  "interpreter": {
   "hash": "b800dbeca7ba76140d44d928c46878d80d0628d805871ef6473defab86f621cf"
  },
  "kernelspec": {
   "display_name": "Python 3.9.7 ('strive')",
   "language": "python",
   "name": "python3"
  },
  "language_info": {
   "codemirror_mode": {
    "name": "ipython",
    "version": 3
   },
   "file_extension": ".py",
   "mimetype": "text/x-python",
   "name": "python",
   "nbconvert_exporter": "python",
   "pygments_lexer": "ipython3",
   "version": "3.9.7"
  },
  "orig_nbformat": 4
 },
 "nbformat": 4,
 "nbformat_minor": 2
}

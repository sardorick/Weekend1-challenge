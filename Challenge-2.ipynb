{
 "cells": [
  {
   "cell_type": "code",
   "execution_count": 17,
   "metadata": {},
   "outputs": [
    {
     "name": "stdout",
     "output_type": "stream",
     "text": [
      "#################\n",
      "################\n",
      "###############\n",
      "##############\n",
      "#############\n",
      "############\n",
      "###########\n",
      "##########\n",
      "#########\n",
      "########\n",
      "#######\n",
      "######\n",
      "#####\n",
      "####\n",
      "###\n",
      "##\n",
      "#\n",
      "<function reverse_pyramid at 0x000001F3FBC7BCA0>\n"
     ]
    }
   ],
   "source": [
    "\n",
    "def reverse_pyramid(num):\n",
    "    i = num\n",
    "    while (i <= num):\n",
    "        print('#' * i)\n",
    "        i -= 1\n",
    "        if i == 0:    \n",
    "            break\n",
    "    return reverse_pyramid   \n",
    "    \n",
    "\n",
    "print(reverse_pyramid(17)) "
   ]
  },
  {
   "cell_type": "code",
   "execution_count": null,
   "metadata": {},
   "outputs": [],
   "source": []
  }
 ],
 "metadata": {
  "interpreter": {
   "hash": "b800dbeca7ba76140d44d928c46878d80d0628d805871ef6473defab86f621cf"
  },
  "kernelspec": {
   "display_name": "Python 3.9.7 ('strive')",
   "language": "python",
   "name": "python3"
  },
  "language_info": {
   "codemirror_mode": {
    "name": "ipython",
    "version": 3
   },
   "file_extension": ".py",
   "mimetype": "text/x-python",
   "name": "python",
   "nbconvert_exporter": "python",
   "pygments_lexer": "ipython3",
   "version": "3.9.7"
  },
  "orig_nbformat": 4
 },
 "nbformat": 4,
 "nbformat_minor": 2
}
